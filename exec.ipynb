{
 "cells": [
  {
   "cell_type": "code",
   "execution_count": 8,
   "id": "539005ea",
   "metadata": {},
   "outputs": [],
   "source": [
    "from pyspark.sql import SparkSession\n",
    "from pyspark.sql.functions import col, lit, current_timestamp, expr"
   ]
  },
  {
   "cell_type": "code",
   "execution_count": 9,
   "id": "b7bb0fb8",
   "metadata": {},
   "outputs": [],
   "source": [
    "from ntbk_logger import get_notebook_logger\n",
    "\n",
    "logger = get_notebook_logger(logfile=\"logs/scd.log\")"
   ]
  },
  {
   "cell_type": "code",
   "execution_count": 10,
   "id": "e21648d7",
   "metadata": {},
   "outputs": [],
   "source": [
    "spark = SparkSession.builder \\\n",
    "    .appName(\"scd\") \\\n",
    "    .master(\"local[*]\") \\\n",
    "    .config(\"spark.sql.extensions\", \"io.delta.sql.DeltaSparkSessionExtension\") \\\n",
    "    .config(\"spark.sql.catalog.spark_catalog\", \"org.apache.spark.sql.delta.catalog.DeltaCatalog\") \\\n",
    "    .getOrCreate()"
   ]
  },
  {
   "cell_type": "code",
   "execution_count": 11,
   "id": "861d35d0",
   "metadata": {},
   "outputs": [
    {
     "name": "stdout",
     "output_type": "stream",
     "text": [
      "+---+-----------+---+-------+------+\n",
      "|age| department| id|   name|salary|\n",
      "+---+-----------+---+-------+------+\n",
      "| 29|         HR|  1|  Alice| 50000|\n",
      "| 35|Engineering|  2|    Bob| 80000|\n",
      "| 28|      Sales|  3|Charlie| 45000|\n",
      "| 42|Engineering|  4|  David| 95000|\n",
      "| 31|         HR|  5|    Eva| 52000|\n",
      "| 36|  Marketing|  6|  Frank| 60000|\n",
      "| 26|      Sales|  7|  Grace| 47000|\n",
      "| 40|Engineering|  8|  Henry| 91000|\n",
      "| 30|  Marketing|  9|    Ivy| 58000|\n",
      "| 38|      Sales| 10|   Jack| 49000|\n",
      "+---+-----------+---+-------+------+\n",
      "\n"
     ]
    }
   ],
   "source": [
    "data = [\n",
    "    {\"id\": 1, \"name\": \"Alice\", \"age\": 29, \"department\": \"HR\", \"salary\": 50000},\n",
    "    {\"id\": 2, \"name\": \"Bob\", \"age\": 35, \"department\": \"Engineering\", \"salary\": 80000},\n",
    "    {\"id\": 3, \"name\": \"Charlie\", \"age\": 28, \"department\": \"Sales\", \"salary\": 45000},\n",
    "    {\"id\": 4, \"name\": \"David\", \"age\": 42, \"department\": \"Engineering\", \"salary\": 95000},\n",
    "    {\"id\": 5, \"name\": \"Eva\", \"age\": 31, \"department\": \"HR\", \"salary\": 52000},\n",
    "    {\"id\": 6, \"name\": \"Frank\", \"age\": 36, \"department\": \"Marketing\", \"salary\": 60000},\n",
    "    {\"id\": 7, \"name\": \"Grace\", \"age\": 26, \"department\": \"Sales\", \"salary\": 47000},\n",
    "    {\"id\": 8, \"name\": \"Henry\", \"age\": 40, \"department\": \"Engineering\", \"salary\": 91000},\n",
    "    {\"id\": 9, \"name\": \"Ivy\", \"age\": 30, \"department\": \"Marketing\", \"salary\": 58000},\n",
    "    {\"id\": 10, \"name\": \"Jack\", \"age\": 38, \"department\": \"Sales\", \"salary\": 49000}\n",
    "]\n",
    "\n",
    "df = spark.createDataFrame(data)\n",
    "\n",
    "df.show()"
   ]
  },
  {
   "cell_type": "code",
   "execution_count": 12,
   "id": "24b9beae",
   "metadata": {},
   "outputs": [],
   "source": [
    "start_time = current_timestamp()\n",
    "cur_status = \"active\""
   ]
  },
  {
   "cell_type": "code",
   "execution_count": 13,
   "id": "d32fc920",
   "metadata": {},
   "outputs": [
    {
     "name": "stdout",
     "output_type": "stream",
     "text": [
      "+---+-----------+---+-------+------+--------------------+--------------------+----------+\n",
      "|age| department| id|   name|salary|          start_time|            end_time|cur_status|\n",
      "+---+-----------+---+-------+------+--------------------+--------------------+----------+\n",
      "| 29|         HR|  1|  Alice| 50000|2025-10-06 17:11:...|2029-10-06 17:11:...|    active|\n",
      "| 35|Engineering|  2|    Bob| 80000|2025-10-06 17:11:...|2029-10-06 17:11:...|    active|\n",
      "| 28|      Sales|  3|Charlie| 45000|2025-10-06 17:11:...|2029-10-06 17:11:...|    active|\n",
      "| 42|Engineering|  4|  David| 95000|2025-10-06 17:11:...|2029-10-06 17:11:...|    active|\n",
      "| 31|         HR|  5|    Eva| 52000|2025-10-06 17:11:...|2029-10-06 17:11:...|    active|\n",
      "| 36|  Marketing|  6|  Frank| 60000|2025-10-06 17:11:...|2029-10-06 17:11:...|    active|\n",
      "| 26|      Sales|  7|  Grace| 47000|2025-10-06 17:11:...|2029-10-06 17:11:...|    active|\n",
      "| 40|Engineering|  8|  Henry| 91000|2025-10-06 17:11:...|2029-10-06 17:11:...|    active|\n",
      "| 30|  Marketing|  9|    Ivy| 58000|2025-10-06 17:11:...|2029-10-06 17:11:...|    active|\n",
      "| 38|      Sales| 10|   Jack| 49000|2025-10-06 17:11:...|2029-10-06 17:11:...|    active|\n",
      "+---+-----------+---+-------+------+--------------------+--------------------+----------+\n",
      "\n"
     ]
    }
   ],
   "source": [
    "df = df.withColumn(\"start_time\", current_timestamp()) \\\n",
    "        .withColumn(\"end_time\", expr(\"current_timestamp() + interval 4 years\")) \\\n",
    "        .withColumn(\"cur_status\", lit(\"active\"))\n",
    "\n",
    "df.show()"
   ]
  },
  {
   "cell_type": "code",
   "execution_count": 15,
   "id": "7d2bc05b",
   "metadata": {},
   "outputs": [],
   "source": [
    "df.write.format(\"delta\").mode(\"overwrite\").save(\"data/employee\")"
   ]
  }
 ],
 "metadata": {
  "kernelspec": {
   "display_name": "Python 3",
   "language": "python",
   "name": "python3"
  },
  "language_info": {
   "codemirror_mode": {
    "name": "ipython",
    "version": 3
   },
   "file_extension": ".py",
   "mimetype": "text/x-python",
   "name": "python",
   "nbconvert_exporter": "python",
   "pygments_lexer": "ipython3",
   "version": "3.11.0"
  }
 },
 "nbformat": 4,
 "nbformat_minor": 5
}
